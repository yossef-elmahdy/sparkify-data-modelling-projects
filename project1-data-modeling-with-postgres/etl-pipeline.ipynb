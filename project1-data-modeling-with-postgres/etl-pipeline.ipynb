{
 "cells": [
  {
   "cell_type": "code",
   "execution_count": 1,
   "id": "ab2896fa",
   "metadata": {},
   "outputs": [
    {
     "data": {
      "text/plain": [
       "True"
      ]
     },
     "execution_count": 1,
     "metadata": {},
     "output_type": "execute_result"
    }
   ],
   "source": [
    "import pandas as pd \n",
    "import os\n",
    "import glob\n",
    "import psycopg2\n",
    "from sql_queries import song_table_insert, artist_table_insert, user_table_insert, time_table_insert, songplay_table_insert, song_select\n",
    "from dotenv import load_dotenv\n",
    "load_dotenv()"
   ]
  },
  {
   "cell_type": "markdown",
   "id": "c7f7c08d",
   "metadata": {},
   "source": [
    "## Main Functions "
   ]
  },
  {
   "cell_type": "code",
   "execution_count": 2,
   "id": "b607c523",
   "metadata": {},
   "outputs": [],
   "source": [
    "def get_files(filepath):\n",
    "    all_files = []\n",
    "    for root, dirs, files in os.walk(filepath):\n",
    "        files = glob.glob(os.path.join(root,'*.json'))\n",
    "        for f in files :\n",
    "            all_files.append(os.path.abspath(f))\n",
    "    \n",
    "    return all_files"
   ]
  },
  {
   "cell_type": "code",
   "execution_count": 3,
   "id": "cb84da90",
   "metadata": {},
   "outputs": [],
   "source": [
    "def insert_into_tables(query_string, query_value, conn, cur): \n",
    "    try: \n",
    "        cur.execute(query_string, query_value)\n",
    "    except Exception as e: \n",
    "        print('INSERT ERROR: ')\n",
    "        print(e)"
   ]
  },
  {
   "cell_type": "code",
   "execution_count": 4,
   "id": "1a0d69a9",
   "metadata": {},
   "outputs": [],
   "source": [
    "def connect_to_database(host, dbname, user, password): \n",
    "    try: \n",
    "        conn = psycopg2.connect(f\"host={host} dbname={dbname} user={user} password={password}\") \n",
    "        conn.set_session(autocommit=True) \n",
    "        cur = conn.cursor()\n",
    "        return conn, cur \n",
    "    except Exception as e: \n",
    "        print('DB Connection Error: ')\n",
    "        print(e)"
   ]
  },
  {
   "cell_type": "markdown",
   "id": "95ab6298",
   "metadata": {},
   "source": [
    "## Connect to Database"
   ]
  },
  {
   "cell_type": "code",
   "execution_count": null,
   "id": "2da69a84",
   "metadata": {},
   "outputs": [],
   "source": [
    "conn, cur = connect_to_database('127.0.0.1', 'sparkifydb', os.environ[\"POSTGRES_USERNAME\"], os.environ[\"POSTGRES_PASSWORD\"])"
   ]
  },
  {
   "cell_type": "code",
   "execution_count": 21,
   "id": "885ff15d",
   "metadata": {},
   "outputs": [],
   "source": [
    "ROOT_PATH = r'C:\\Users\\Youssef\\Documents\\Data Engineer\\Lesson 1\\Project1\\data'"
   ]
  },
  {
   "cell_type": "markdown",
   "id": "24ea2d6b",
   "metadata": {},
   "source": [
    "## Songs & Artist ETLs "
   ]
  },
  {
   "cell_type": "code",
   "execution_count": 22,
   "id": "1d6d9a3d",
   "metadata": {},
   "outputs": [
    {
     "name": "stdout",
     "output_type": "stream",
     "text": [
      "C:\\Users\\Youssef\\Documents\\Data Engineer\\Lesson 1\\Project1\\data\\song_data\n"
     ]
    }
   ],
   "source": [
    "songs_path = ROOT_PATH + r'\\song_data'\n",
    "songs_files = get_files(songs_path)"
   ]
  },
  {
   "cell_type": "code",
   "execution_count": 6,
   "id": "bef7e9f4",
   "metadata": {},
   "outputs": [],
   "source": [
    "def song_data_etl(song_files, conn, cur): \n",
    "    for song in songs_files: \n",
    "        song_df = pd.read_json(song, lines=True)\n",
    "        song_values = song_df.loc[:, ['song_id', 'title', 'artist_id', 'year', 'duration']].values[0].tolist()\n",
    "        artist_values = song_df.loc[:, ['artist_id', 'artist_name', 'artist_location', 'artist_latitude', 'artist_longitude']].values[0].tolist()\n",
    "        insert_into_tables(song_table_insert, song_values, conn, cur) \n",
    "        insert_into_tables(artist_table_insert, artist_values, conn, cur)\n",
    "    print('Done Inserting into songs & artists tables')"
   ]
  },
  {
   "cell_type": "code",
   "execution_count": 8,
   "id": "0065f756",
   "metadata": {},
   "outputs": [
    {
     "name": "stdout",
     "output_type": "stream",
     "text": [
      "Done Inserting into songs & artists tables\n"
     ]
    }
   ],
   "source": [
    "song_data_etl(songs_files, conn, cur)"
   ]
  },
  {
   "cell_type": "markdown",
   "id": "99e820c8",
   "metadata": {},
   "source": [
    "## Time, Users & Songplays ETLs"
   ]
  },
  {
   "cell_type": "code",
   "execution_count": 15,
   "id": "df4f21b4",
   "metadata": {},
   "outputs": [],
   "source": [
    "def user_insert(row):\n",
    "    insert_into_tables(user_table_insert, row.tolist(), conn, cur)\n",
    "    \n",
    "def time_insert(row): \n",
    "    insert_into_tables(time_table_insert, row.tolist(), conn, cur)"
   ]
  },
  {
   "cell_type": "code",
   "execution_count": 9,
   "id": "38ef1887",
   "metadata": {},
   "outputs": [],
   "source": [
    "def build_time_df(log_df): \n",
    "    time_df = pd.DataFrame()\n",
    "    log_df['ts'] = pd.to_datetime(log_df['ts'], unit='ms') \n",
    "    time_df['start_time'] = pd.to_datetime(log_df['ts'], unit='ms') \n",
    "    time_df['hour'] = time_df['start_time'].dt.hour\n",
    "    time_df['day'] = time_df['start_time'].dt.day\n",
    "    time_df['week'] = time_df['start_time'].dt.isocalendar().week\n",
    "    time_df['month'] = time_df['start_time'].dt.month\n",
    "    time_df['year'] = time_df['start_time'].dt.year\n",
    "    time_df['weekday'] = time_df['start_time'].dt.weekday\n",
    "    \n",
    "    # Insert Into time Table \n",
    "    time_df.apply(time_insert, axis=1)\n",
    "    return True"
   ]
  },
  {
   "cell_type": "code",
   "execution_count": 10,
   "id": "c0613fde",
   "metadata": {},
   "outputs": [],
   "source": [
    "def build_user_table(log_df): \n",
    "    users_df = log_df.loc[:, ['userId', 'firstName', 'lastName', 'gender', 'level']]\n",
    "    users_df.apply(user_insert, axis=1)\n",
    "    return True"
   ]
  },
  {
   "cell_type": "code",
   "execution_count": 17,
   "id": "fa147f5f",
   "metadata": {},
   "outputs": [],
   "source": [
    "def build_songplays_table(row): \n",
    "    cur.execute(song_select, (row['song'], row['artist'], row['length']))\n",
    "    result = cur.fetchone()\n",
    "    if result: \n",
    "        songId, artistId = result \n",
    "    else: \n",
    "        songId, artistId = None, None \n",
    "        \n",
    "    songplays_values = [row['ts'], row['userId'], row['level'], songId, artistId, row['sessionId'], row['location'], row['userAgent']]\n",
    "    insert_into_tables(songplay_table_insert, songplays_values, conn, cur)\n",
    "    \n",
    "    return True "
   ]
  },
  {
   "cell_type": "code",
   "execution_count": 23,
   "id": "00174d7c",
   "metadata": {},
   "outputs": [],
   "source": [
    "log_path = ROOT_PATH + r'\\log_data'\n",
    "log_files = get_files(log_path)"
   ]
  },
  {
   "cell_type": "code",
   "execution_count": 13,
   "id": "05cf9a60",
   "metadata": {},
   "outputs": [],
   "source": [
    "def log_data_etl(log_files, conn, cur): \n",
    "    for log in log_files: \n",
    "        log_df = pd.read_json(log, lines=True)\n",
    "        log_df = log_df.loc[log_df['page'] == 'NextSong']\n",
    "        build_time_df(log_df)\n",
    "        build_user_table(log_df)\n",
    "        log_df.apply(build_songplays_table, axis=1)\n",
    "    print(\"Done Inserting into time, users & songplays tables\")"
   ]
  },
  {
   "cell_type": "code",
   "execution_count": 18,
   "id": "0f95d3bf",
   "metadata": {},
   "outputs": [
    {
     "name": "stdout",
     "output_type": "stream",
     "text": [
      "Done Inserting into time, users & songplays tables\n"
     ]
    }
   ],
   "source": [
    "log_data_etl(log_files, conn, cur)"
   ]
  },
  {
   "cell_type": "code",
   "execution_count": 19,
   "id": "3dfb324b",
   "metadata": {},
   "outputs": [],
   "source": [
    "conn.close()"
   ]
  }
 ],
 "metadata": {
  "kernelspec": {
   "display_name": "Python 3.9.5 ('pythonProject')",
   "language": "python",
   "name": "python3"
  },
  "language_info": {
   "codemirror_mode": {
    "name": "ipython",
    "version": 3
   },
   "file_extension": ".py",
   "mimetype": "text/x-python",
   "name": "python",
   "nbconvert_exporter": "python",
   "pygments_lexer": "ipython3",
   "version": "3.9.5"
  },
  "vscode": {
   "interpreter": {
    "hash": "c6873fe627ff293bdf5e88291f74e3995a40117bfe7ff1495a92e12ddd6d1ab4"
   }
  }
 },
 "nbformat": 4,
 "nbformat_minor": 5
}
